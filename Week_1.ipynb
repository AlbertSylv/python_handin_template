{
 "cells": [
  {
   "cell_type": "markdown",
   "metadata": {},
   "source": [
    "# Week 1 handin"
   ]
  },
  {
   "cell_type": "markdown",
   "metadata": {},
   "source": [
    "## 01 Assignment\n",
    "Here is the text for the assignment linked to"
   ]
  },
  {
   "cell_type": "markdown",
   "metadata": {},
   "source": [
    "## 02 Status\n",
    "Here is a status on the handin. How far you got. What is implemented and what is not. \n",
    "Stuff and things"
   ]
  },
  {
   "cell_type": "markdown",
   "metadata": {},
   "source": [
    "## 03 Solution part 1"
   ]
  },
  {
   "cell_type": "code",
   "execution_count": 1,
   "metadata": {},
   "outputs": [
    {
     "name": "stdout",
     "output_type": "stream",
     "text": [
      "['hans', 'hanne', 'harry']\n"
     ]
    }
   ],
   "source": [
    "# 1.A\n",
    "Listen = [\"hans\", \"arne\", \"hanne\", \"rolf\", \"albert\", \"harry\"]\n",
    "hListen = []\n",
    "for i in Listen:\n",
    "    if i[0] == \"h\":\n",
    "        hListen.append(i)\n",
    "        \n",
    "print(hListen)\n"
   ]
  },
  {
   "cell_type": "code",
   "execution_count": 2,
   "metadata": {},
   "outputs": [
    {
     "name": "stdout",
     "output_type": "stream",
     "text": [
      "[1, 8, 27, 64, 125, 216, 343, 512, 729, 1000, 1331, 1728, 2197, 2744, 3375, 4096, 4913, 5832, 6859, 8000, 9261, 10648, 12167, 13824, 15625, 17576, 19683, 21952, 24389, 27000, 29791, 32768, 35937, 39304, 42875, 46656, 50653, 54872, 59319, 64000, 68921, 74088, 79507, 85184, 91125, 97336, 103823, 110592, 117649, 125000, 132651, 140608, 148877, 157464, 166375, 175616, 185193, 195112, 205379, 216000, 226981, 238328, 250047, 262144, 274625, 287496, 300763, 314432, 328509, 343000, 357911, 373248, 389017, 405224, 421875, 438976, 456533, 474552, 493039, 512000, 531441, 551368, 571787, 592704, 614125, 636056, 658503, 681472, 704969, 729000, 753571, 778688, 804357, 830584, 857375, 884736, 912673, 941192, 970299, 1000000]\n"
     ]
    }
   ],
   "source": [
    "# 1.B\n",
    "lst = [x**3 for x in range(1,101)]\n",
    "print(lst)"
   ]
  },
  {
   "cell_type": "code",
   "execution_count": 3,
   "metadata": {},
   "outputs": [
    {
     "name": "stdout",
     "output_type": "stream",
     "text": [
      "[(4, 'hans'), (4, 'arne'), (5, 'hanne'), (4, 'rolf'), (6, 'albert'), (5, 'harry')]\n"
     ]
    }
   ],
   "source": [
    "# 1.C\n",
    "\n",
    "tupleList = []\n",
    "for i in Listen:\n",
    "    tupleList.append((len(i),i))\n",
    "    \n",
    "print(tupleList)"
   ]
  },
  {
   "cell_type": "code",
   "execution_count": 4,
   "metadata": {},
   "outputs": [
    {
     "name": "stdout",
     "output_type": "stream",
     "text": [
      "7\n",
      "3\n",
      "4\n",
      "7\n",
      "4\n",
      "7\n",
      "8\n",
      "4\n",
      "4\n"
     ]
    }
   ],
   "source": [
    "#1.D\n",
    "string = \"ftwegf734r7uiwef4784rhukw4o\"\n",
    "for i in string:\n",
    "    if i.isnumeric():\n",
    "        print(i)\n",
    "        "
   ]
  },
  {
   "cell_type": "code",
   "execution_count": 28,
   "metadata": {},
   "outputs": [
    {
     "data": {
      "text/plain": [
       "{(1, 1),\n",
       " (2, 1),\n",
       " (2, 2),\n",
       " (3, 1),\n",
       " (3, 2),\n",
       " (3, 3),\n",
       " (4, 1),\n",
       " (4, 2),\n",
       " (4, 3),\n",
       " (4, 4),\n",
       " (5, 1),\n",
       " (5, 2),\n",
       " (5, 3),\n",
       " (5, 4),\n",
       " (5, 5),\n",
       " (6, 1),\n",
       " (6, 2),\n",
       " (6, 3),\n",
       " (6, 4),\n",
       " (6, 5),\n",
       " (6, 6)}"
      ]
     },
     "execution_count": 28,
     "metadata": {},
     "output_type": "execute_result"
    }
   ],
   "source": [
    "#1.E\n",
    "#Using only a list comprehension wrapped in set() get all possible combinations from throwing 2 dice (hint use 2 for loops in a single list comprehension)\n",
    "theSet = set()\n",
    "for x in range(1,7):\n",
    "    for y in range(1,1+x):\n",
    "        theSet.add((x,y))\n",
    "l\n",
    "\n",
    "\n",
    "\n"
   ]
  },
  {
   "cell_type": "markdown",
   "metadata": {},
   "source": [
    "## 04 Solution part 2"
   ]
  },
  {
   "cell_type": "code",
   "execution_count": 23,
   "metadata": {},
   "outputs": [
    {
     "name": "stdout",
     "output_type": "stream",
     "text": [
      "{'hans': 4, 'arne': 4, 'hanne': 5, 'rolf': 4, 'albert': 6, 'harry': 5}\n"
     ]
    }
   ],
   "source": [
    "# 2.A\n",
    "my_dictionary = {}\n",
    "for x in Listen:\n",
    "    my_dictionary[x]=len(x)\n",
    "    \n",
    "print(my_dictionary)    "
   ]
  },
  {
   "cell_type": "code",
   "execution_count": 27,
   "metadata": {},
   "outputs": [
    {
     "name": "stdout",
     "output_type": "stream",
     "text": [
      "{1: 1.0, 2: 1.4142135623730951, 3: 1.7320508075688772, 4: 2.0, 5: 2.23606797749979, 6: 2.449489742783178, 7: 2.6457513110645907, 8: 2.8284271247461903, 100: 10.0}\n"
     ]
    }
   ],
   "source": [
    "# 2.B\n",
    "import math\n",
    "\n",
    "my_ass = [1,2,3,4,5,6,7,8, 100]\n",
    "my_dictionary2 = {}\n",
    "\n",
    "for q in my_ass:\n",
    "    my_dictionary2[q]=math.sqrt(q)\n",
    "    \n",
    "print(my_dictionary2)    "
   ]
  },
  {
   "cell_type": "code",
   "execution_count": 33,
   "metadata": {},
   "outputs": [
    {
     "data": {
      "text/plain": [
       "{(1, 1): 2.7777777777777777,\n",
       " (2, 1): 5.555555555555555,\n",
       " (2, 2): 2.7777777777777777,\n",
       " (3, 1): 5.555555555555555,\n",
       " (3, 2): 5.555555555555555,\n",
       " (3, 3): 2.7777777777777777,\n",
       " (4, 1): 5.555555555555555,\n",
       " (4, 2): 5.555555555555555,\n",
       " (4, 3): 5.555555555555555,\n",
       " (4, 4): 2.7777777777777777,\n",
       " (5, 1): 5.555555555555555,\n",
       " (5, 2): 5.555555555555555,\n",
       " (5, 3): 5.555555555555555,\n",
       " (5, 4): 5.555555555555555,\n",
       " (5, 5): 2.7777777777777777,\n",
       " (6, 1): 5.555555555555555,\n",
       " (6, 2): 5.555555555555555,\n",
       " (6, 3): 5.555555555555555,\n",
       " (6, 4): 5.555555555555555,\n",
       " (6, 5): 5.555555555555555,\n",
       " (6, 6): 2.7777777777777777}"
      ]
     },
     "execution_count": 33,
     "metadata": {},
     "output_type": "execute_result"
    }
   ],
   "source": [
    "# 3\n",
    "for x in range(1,7):\n",
    "    for y in range(1,1+x):\n",
    "        if x == y:\n",
    "            theSet[(x,y)]=100/36\n",
    "        else:\n",
    "            theSet[(x,y)]=100/18\n",
    "theSet\n",
    "\n"
   ]
  }
 ],
 "metadata": {
  "kernelspec": {
   "display_name": "Python 3",
   "language": "python",
   "name": "python3"
  },
  "language_info": {
   "codemirror_mode": {
    "name": "ipython",
    "version": 3
   },
   "file_extension": ".py",
   "mimetype": "text/x-python",
   "name": "python",
   "nbconvert_exporter": "python",
   "pygments_lexer": "ipython3",
   "version": "3.7.6"
  }
 },
 "nbformat": 4,
 "nbformat_minor": 4
}
