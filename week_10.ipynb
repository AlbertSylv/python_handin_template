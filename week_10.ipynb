{
 "cells": [
  {
   "cell_type": "markdown",
   "metadata": {},
   "source": [
    "# Week 10 handin"
   ]
  },
  {
   "cell_type": "markdown",
   "metadata": {},
   "source": [
    "## 01 Assignment\n",
    "Exercise meanshift\n",
    "load 'data/iris_data.csv' into a dataframe (use decimal=',') and remove the 2 Petal columns. \n",
    "Now we are left with a 2D feature space\n",
    "\n",
    "get unique labels (Species column)\n",
    "\n",
    "plot with a scatter plot each iris flower sample colored by label (3 different colors)image.png\n",
    "\n",
    "use: MeanShift and estimate_bandwidth from sklearn.cluster to first estimate bandwidth and then get the clusters (HINT: estimate_bandwidth() takes an argument: quantile set it to 0.2 for best result)\n",
    "\n",
    "print out labels, cluster centers and number of clusters (as returned from the MeanShift function)\n",
    "\n",
    "create a new scatter plot where each flower is colored according to cluster label\n",
    "\n",
    "add a dot for the cluster centers\n",
    "\n",
    "Compare the 2 plots (colored by actual labels vs. colored by cluster label)\n",
    "\n",
    "Try changing the 'quantile' argument to 0.15 and see what happens to your cluster plot."
   ]
  },
  {
   "cell_type": "markdown",
   "metadata": {},
   "source": [
    "## 02 Status"
   ]
  },
  {
   "cell_type": "markdown",
   "metadata": {},
   "source": [
    "## 03 Solution"
   ]
  },
  {
   "cell_type": "code",
   "execution_count": 102,
   "metadata": {},
   "outputs": [
    {
     "name": "stdout",
     "output_type": "stream",
     "text": [
      "Index(['Sepal length', 'Sepal width', 'Petal length', 'Petal width',\n",
      "       'Species'],\n",
      "      dtype='object')\n",
      "     Sepal length  Sepal width       Species\n",
      "0             5.1          3.5     I. setosa\n",
      "1             4.9          3.0     I. setosa\n",
      "2             4.7          3.2     I. setosa\n",
      "3             4.6          3.1     I. setosa\n",
      "4             5.0          3.6     I. setosa\n",
      "..            ...          ...           ...\n",
      "145           6.7          3.0  I. virginica\n",
      "146           6.3          2.5  I. virginica\n",
      "147           6.5          3.0  I. virginica\n",
      "148           6.2          3.4  I. virginica\n",
      "149           5.9          3.0  I. virginica\n",
      "\n",
      "[150 rows x 3 columns]\n"
     ]
    }
   ],
   "source": [
    "import pandas as pd\n",
    "\n",
    "data = pd.read_csv('../data/iris_data.csv', decimal=',')\n",
    "print(data.columns)\n",
    "data.drop(['Petal length', 'Petal width'], inplace=True, axis=1)\n",
    "\n",
    "print(data)"
   ]
  },
  {
   "cell_type": "code",
   "execution_count": 103,
   "metadata": {},
   "outputs": [
    {
     "name": "stdout",
     "output_type": "stream",
     "text": [
      "['I. setosa', 'I. versicolor', 'I. virginica']\n"
     ]
    }
   ],
   "source": [
    "uniqSpecies = data['Species'].unique().tolist()\n",
    "print(uniqSpecies)"
   ]
  },
  {
   "cell_type": "code",
   "execution_count": 104,
   "metadata": {
    "scrolled": true
   },
   "outputs": [
    {
     "data": {
      "image/png": "[encoded data removed]",
      "text/plain": [
       "<Figure size 432x288 with 1 Axes>"
      ]
     },
     "metadata": {
      "needs_background": "light"
     },
     "output_type": "display_data"
    }
   ],
   "source": [
    "import matplotlib.pyplot as plt\n",
    "import pandas as pd\n",
    "import numpy as np\n",
    "\n",
    "x,y,z = data['Sepal length'], data['Sepal width'], data['Species']\n",
    "\n",
    "colors = 'bgrcmy'\n",
    "x,y,z = data['Sepal length'], data['Sepal width'], data['Species']\n",
    "data['Species'] = label_enc.fit_transform(data['Species'].astype(str))\n",
    "for s,col in zip(z,colors):\n",
    "    colormap = np.array(['r','b','g'])\n",
    "    plt.scatter(x,y, c=colormap[data['Species']])\n"
   ]
  },
  {
   "cell_type": "code",
   "execution_count": 105,
   "metadata": {},
   "outputs": [
    {
     "name": "stdout",
     "output_type": "stream",
     "text": [
      "0.5782805830511767\n",
      "labels\n",
      "[1 1 1 1 1 1 1 1 1 1 1 1 1 1 1 1 1 1 1 1 1 1 1 1 1 1 1 1 1 1 1 1 1 1 1 1 1\n",
      " 1 1 1 1 1 1 1 1 1 1 1 1 1 2 0 0 0 0 0 0 1 0 1 1 0 0 0 0 0 0 0 0 0 0 0 0 0\n",
      " 0 0 0 0 0 0 0 0 0 0 1 0 0 0 0 0 0 0 0 1 0 0 0 0 1 0 0 0 2 0 0 2 1 2 0 2 0\n",
      " 0 0 0 0 0 0 2 2 0 0 0 2 0 0 2 0 0 0 2 2 2 0 0 0 2 0 0 0 0 0 0 0 0 0 0 0 0\n",
      " 0 0]\n",
      "cluster_centers\n",
      "[[6.08727273 2.90181818]\n",
      " [5.         3.37692308]\n",
      " [7.6        3.73333333]]\n",
      "n_clusters\n",
      "3\n"
     ]
    }
   ],
   "source": [
    "from sklearn.cluster import estimate_bandwidth\n",
    "data = data.drop('Species', axis=1)\n",
    "bandwidth = estimate_bandwidth(data, quantile=0.2)\n",
    "bandwidth2 = estimate_bandwidth(data, quantile=0.15)\n",
    "print(bandwidth)\n",
    "\n",
    "from sklearn.cluster import MeanShift\n",
    "ms = MeanShift(bandwidth=bandwidth, bin_seeding=True)\n",
    "ms_data = ms.fit(data)\n",
    "labels = ms.labels_\n",
    "centers = ms.cluster_centers_\n",
    "\n",
    "labels_unique = np.unique(labels)\n",
    "n_clusters = len(labels_unique)\n",
    "\n",
    "print('labels')\n",
    "print(labels)\n",
    "print('cluster_centers')\n",
    "print(centers)\n",
    "print('n_clusters')\n",
    "print(n_clusters)"
   ]
  },
  {
   "cell_type": "code",
   "execution_count": 106,
   "metadata": {},
   "outputs": [
    {
     "name": "stdout",
     "output_type": "stream",
     "text": [
      "[0 0 0 0 0 0 0 0 0 0 0 0 0 0 0 0 0 0 0 0 0 0 0 0 0 0 0 0 0 0 0 0 0 0 0 0 0\n",
      " 0 0 0 0 0 0 0 0 0 0 0 0 0 2 1 1 1 1 1 1 3 1 1 3 1 1 1 1 1 1 1 1 1 1 1 1 1\n",
      " 1 1 1 1 1 1 1 1 1 1 1 1 1 1 1 1 1 1 1 1 1 1 1 1 1 1 2 2 2 2 2 2 3 2 2 2 2\n",
      " 2 2 3 2 2 2 2 2 2 2 3 2 2 2 2 2 2 2 2 2 2 2 2 2 2 2 2 2 2 2 2 2 2 2 2 2 2\n",
      " 2 2]\n",
      "\n",
      "\n",
      " [0 1 2 3]\n"
     ]
    }
   ],
   "source": [
    "labels = analyzer.labels_\n",
    "print(labels)\n",
    "print('\\n\\n',np.unique(labels))"
   ]
  },
  {
   "cell_type": "code",
   "execution_count": 107,
   "metadata": {},
   "outputs": [
    {
     "data": {
      "text/html": [
       "<div>\n",
       "<style scoped>\n",
       "    .dataframe tbody tr th:only-of-type {\n",
       "        vertical-align: middle;\n",
       "    }\n",
       "\n",
       "    .dataframe tbody tr th {\n",
       "        vertical-align: top;\n",
       "    }\n",
       "\n",
       "    .dataframe thead th {\n",
       "        text-align: right;\n",
       "    }\n",
       "</style>\n",
       "<table border=\"1\" class=\"dataframe\">\n",
       "  <thead>\n",
       "    <tr style=\"text-align: right;\">\n",
       "      <th></th>\n",
       "      <th>Sepal length</th>\n",
       "      <th>Sepal width</th>\n",
       "      <th>cluster_group</th>\n",
       "    </tr>\n",
       "  </thead>\n",
       "  <tbody>\n",
       "    <tr>\n",
       "      <th>0</th>\n",
       "      <td>5.1</td>\n",
       "      <td>3.5</td>\n",
       "      <td>0.0</td>\n",
       "    </tr>\n",
       "    <tr>\n",
       "      <th>1</th>\n",
       "      <td>4.9</td>\n",
       "      <td>3.0</td>\n",
       "      <td>0.0</td>\n",
       "    </tr>\n",
       "    <tr>\n",
       "      <th>2</th>\n",
       "      <td>4.7</td>\n",
       "      <td>3.2</td>\n",
       "      <td>0.0</td>\n",
       "    </tr>\n",
       "    <tr>\n",
       "      <th>3</th>\n",
       "      <td>4.6</td>\n",
       "      <td>3.1</td>\n",
       "      <td>0.0</td>\n",
       "    </tr>\n",
       "    <tr>\n",
       "      <th>4</th>\n",
       "      <td>5.0</td>\n",
       "      <td>3.6</td>\n",
       "      <td>0.0</td>\n",
       "    </tr>\n",
       "    <tr>\n",
       "      <th>...</th>\n",
       "      <td>...</td>\n",
       "      <td>...</td>\n",
       "      <td>...</td>\n",
       "    </tr>\n",
       "    <tr>\n",
       "      <th>145</th>\n",
       "      <td>6.7</td>\n",
       "      <td>3.0</td>\n",
       "      <td>2.0</td>\n",
       "    </tr>\n",
       "    <tr>\n",
       "      <th>146</th>\n",
       "      <td>6.3</td>\n",
       "      <td>2.5</td>\n",
       "      <td>2.0</td>\n",
       "    </tr>\n",
       "    <tr>\n",
       "      <th>147</th>\n",
       "      <td>6.5</td>\n",
       "      <td>3.0</td>\n",
       "      <td>2.0</td>\n",
       "    </tr>\n",
       "    <tr>\n",
       "      <th>148</th>\n",
       "      <td>6.2</td>\n",
       "      <td>3.4</td>\n",
       "      <td>2.0</td>\n",
       "    </tr>\n",
       "    <tr>\n",
       "      <th>149</th>\n",
       "      <td>5.9</td>\n",
       "      <td>3.0</td>\n",
       "      <td>2.0</td>\n",
       "    </tr>\n",
       "  </tbody>\n",
       "</table>\n",
       "<p>150 rows × 3 columns</p>\n",
       "</div>"
      ],
      "text/plain": [
       "     Sepal length  Sepal width  cluster_group\n",
       "0             5.1          3.5            0.0\n",
       "1             4.9          3.0            0.0\n",
       "2             4.7          3.2            0.0\n",
       "3             4.6          3.1            0.0\n",
       "4             5.0          3.6            0.0\n",
       "..            ...          ...            ...\n",
       "145           6.7          3.0            2.0\n",
       "146           6.3          2.5            2.0\n",
       "147           6.5          3.0            2.0\n",
       "148           6.2          3.4            2.0\n",
       "149           5.9          3.0            2.0\n",
       "\n",
       "[150 rows x 3 columns]"
      ]
     },
     "execution_count": 107,
     "metadata": {},
     "output_type": "execute_result"
    }
   ],
   "source": [
    "data['cluster_group'] = np.nan\n",
    "for i in range(len(data)): \n",
    "    data.iloc[i,data.columns.get_loc('cluster_group')] = labels[i]\n",
    "cluster_data = data.groupby(['cluster_group']).mean()\n",
    "data\n"
   ]
  },
  {
   "cell_type": "code",
   "execution_count": 108,
   "metadata": {},
   "outputs": [
    {
     "data": {
      "text/plain": [
       "Text(0.5, 1.0, 'Estimated number of clusters: 3')"
      ]
     },
     "execution_count": 108,
     "metadata": {},
     "output_type": "execute_result"
    },
    {
     "data": {
      "image/png": "[encoded data removed]",
      "text/plain": [
       "<Figure size 432x288 with 1 Axes>"
      ]
     },
     "metadata": {
      "needs_background": "light"
     },
     "output_type": "display_data"
    }
   ],
   "source": [
    "from itertools import cycle\n",
    "\n",
    "fig = plt.figure()\n",
    "ax = fig.add_subplot(111)\n",
    "\n",
    "colors = cycle('bgrcmy')\n",
    "for k, col in zip(range(n_clusters), colors):\n",
    "    my_members = (labels == k)\n",
    "    cluster_center = centers[k]\n",
    "    \n",
    "    x = data[labels == k]['Sepal length']\n",
    "    y = data[labels == k]['Sepal width']\n",
    "    ax.scatter(x, y, c=col, linewidth=0.2)\n",
    "    ax.scatter(cluster_center[0], cluster_center[1], c='k', s=50, linewidth=0.2)\n",
    "    \n",
    "plt.title('Estimated number of clusters: {}'.format(n_clusters))"
   ]
  }
 ],
 "metadata": {
  "kernelspec": {
   "display_name": "Python 3",
   "language": "python",
   "name": "python3"
  },
  "language_info": {
   "codemirror_mode": {
    "name": "ipython",
    "version": 3
   },
   "file_extension": ".py",
   "mimetype": "text/x-python",
   "name": "python",
   "nbconvert_exporter": "python",
   "pygments_lexer": "ipython3",
   "version": "3.7.6"
  }
 },
 "nbformat": 4,
 "nbformat_minor": 4
}
