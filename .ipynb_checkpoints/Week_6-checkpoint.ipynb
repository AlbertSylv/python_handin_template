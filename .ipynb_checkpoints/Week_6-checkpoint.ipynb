{
 "cells": [
  {
   "cell_type": "markdown",
   "metadata": {},
   "source": [
    "# Week 6 handin"
   ]
  },
  {
   "cell_type": "markdown",
   "metadata": {},
   "source": [
    "# 01 Assignment\n",
    "http://127.0.0.1:8888/notebooks/06-Exercise.ipynb"
   ]
  },
  {
   "cell_type": "markdown",
   "metadata": {},
   "source": [
    "# 02 Status"
   ]
  },
  {
   "cell_type": "markdown",
   "metadata": {},
   "source": [
    "# 03 Solution"
   ]
  },
  {
   "cell_type": "code",
   "execution_count": 85,
   "metadata": {},
   "outputs": [
    {
     "name": "stdout",
     "output_type": "stream",
     "text": [
      "84-0.txt\n",
      "1342-0.txt\n",
      "64317-0.txt\n",
      "1080-0.txt\n",
      "98-0.txt\n",
      "2542-0.txt\n",
      "11-0.txt\n",
      "844-0.txt\n",
      "pg5200.txt\n",
      "2701-0.txt\n",
      "['84-0.txt', '1342-0.txt', '64317-0.txt', '1080-0.txt', '98-0.txt', '2542-0.txt', '11-0.txt', '844-0.txt', 'pg5200.txt', '2701-0.txt']\n",
      "[(3.1118083326242947, '84-0.txt'), (3.1396432588783543, '1080-0.txt'), (3.142371323529412, '844-0.txt'), (3.2278334695179067, '2542-0.txt'), (3.2432197909930958, '98-0.txt'), (3.251993545822323, 'pg5200.txt'), (3.2540368247761844, '2701-0.txt'), (3.259519499938167, '64317-0.txt'), (3.2735997451366905, '11-0.txt'), (3.478937100571813, '1342-0.txt')]\n",
      "(3.478937100571813, '1342-0.txt')\n"
     ]
    }
   ],
   "source": [
    "import requests\n",
    "from concurrent.futures import ThreadPoolExecutor\n",
    "from concurrent.futures import ProcessPoolExecutor\n",
    "import multiprocessing\n",
    "\n",
    "class BookLook:\n",
    "    def __init__(self, url_list = []):\n",
    "        self.url_list = url_list\n",
    "        self.filenames = BookLook.multi_download(BookLook.download, url_list)\n",
    "        print(self.filenames)\n",
    "        \n",
    "    def download(url):\n",
    "        #Find file name\n",
    "        if url.find('/'):\n",
    "            filename = url.rsplit('/', 1)[1]\n",
    "            print(filename)\n",
    "            \n",
    "        #write stuff from url to file \n",
    "        try:\n",
    "            r = requests.get(url, allow_redirects=True)\n",
    "            open(filename, 'wb').write(r.content)\n",
    "            \n",
    "            r.raise_for_status()\n",
    "            return filename\n",
    "        except requests.HTTPError as exception:\n",
    "            print(exception)\n",
    "            \n",
    "    def multi_download(func, urls, workers=4):\n",
    "        with ThreadPoolExecutor(workers) as ex:\n",
    "            res = ex.map(func, urls)\n",
    "        return list(res)\n",
    "\n",
    "    def __iter__(self):\n",
    "        return self\n",
    "    \n",
    "    def __next__(self):\n",
    "        if self.n <= self.max:\n",
    "            result = self.n\n",
    "            return result\n",
    "        else:\n",
    "            raise StopIteration\n",
    "            \n",
    "    def urllist_generator(self):\n",
    "        for url in url_list:\n",
    "            yield url\n",
    "            \n",
    "    def avg_vowels(self, filename):\n",
    "        vovel = ('aeiouyAEIOUY')\n",
    "        word_count = 0\n",
    "        char_count = 0\n",
    "        with open (filename,'r') as text_object:\n",
    "            content = text_object.readlines()\n",
    "            for line in content:\n",
    "                for word in line:\n",
    "                    word_count +=1\n",
    "                    for character in word:\n",
    "                        if character in vovel:\n",
    "                            char_count += 1\n",
    "        return word_count/char_count\n",
    "        \n",
    "    def multiprocess(self,func, args, workers=multiprocessing.cpu_count()):\n",
    "        with ProcessPoolExecutor(workers) as ex:\n",
    "            res = ex.map(func, args)\n",
    "        return list(res)\n",
    "    \n",
    "    def hardest_read(self):\n",
    "            res = self.multiprocess(self.avg_vowels, self.filenames)\n",
    "            dicto={res[i]: self.filenames[i] for i in range(len(res))}\n",
    "            sorted_dicto = sorted(dicto.items(), key=lambda item: item[0])\n",
    "            print(sorted_dicto)\n",
    "            return sorted_dicto[-1]\n",
    "            \n",
    "            \n",
    "    \n",
    "        \n",
    "    \n",
    "bl = BookLook([\"https://www.gutenberg.org/files/84/84-0.txt\",\"https://www.gutenberg.org/files/1342/1342-0.txt\", \"https://www.gutenberg.org/files/64317/64317-0.txt\",\"https://www.gutenberg.org/files/1080/1080-0.txt\",\"https://www.gutenberg.org/files/98/98-0.txt\" ,\"https://www.gutenberg.org/files/2542/2542-0.txt\",\"https://www.gutenberg.org/files/11/11-0.txt\",\"https://www.gutenberg.org/files/844/844-0.txt\",\"https://www.gutenberg.org/cache/epub/5200/pg5200.txt\",\"https://www.gutenberg.org/files/2701/2701-0.txt\"])\n",
    "hardest_book = bl.hardest_read()\n",
    "print(hardest_book)\n",
    "\n",
    "        \n",
    "            \n",
    "                \n",
    "                    \n",
    "                       \n",
    "                            \n"
   ]
  }
 ],
 "metadata": {
  "kernelspec": {
   "display_name": "Python 3",
   "language": "python",
   "name": "python3"
  },
  "language_info": {
   "codemirror_mode": {
    "name": "ipython",
    "version": 3
   },
   "file_extension": ".py",
   "mimetype": "text/x-python",
   "name": "python",
   "nbconvert_exporter": "python",
   "pygments_lexer": "ipython3",
   "version": "3.7.6"
  }
 },
 "nbformat": 4,
 "nbformat_minor": 4
}
